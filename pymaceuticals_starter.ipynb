{
 "cells": [
  {
   "cell_type": "markdown",
   "metadata": {},
   "source": [
    "## Observations and Insights"
   ]
  },
  {
   "cell_type": "markdown",
   "metadata": {},
   "source": [
    "1-\tAfter analyzing the data, it seems that Capomulin and Ramicane produce the most promising results when it comes to the tumor size. Both show a significant reduction on size across all statistical categories.  \n",
    "\n",
    "2-\tWith a r-squared value of 0.84, there is a positive correlation between mice weight and the average tumor volume, which makes sense that having a larger mass (tumor) would make the mouse have more weight.  \n",
    "\n",
    "3-\tThe bar graphs show that more mice were treated with the 2 drugs that had positive effects on tumor size compared to the other drugs used in this study. \n"
   ]
  },
  {
   "cell_type": "markdown",
   "metadata": {},
   "source": [
    "## Dependencies and starter code"
   ]
  },
  {
   "cell_type": "code",
   "execution_count": 1,
   "metadata": {},
   "outputs": [
    {
     "data": {
      "text/html": [
       "<div>\n",
       "<style scoped>\n",
       "    .dataframe tbody tr th:only-of-type {\n",
       "        vertical-align: middle;\n",
       "    }\n",
       "\n",
       "    .dataframe tbody tr th {\n",
       "        vertical-align: top;\n",
       "    }\n",
       "\n",
       "    .dataframe thead th {\n",
       "        text-align: right;\n",
       "    }\n",
       "</style>\n",
       "<table border=\"1\" class=\"dataframe\">\n",
       "  <thead>\n",
       "    <tr style=\"text-align: right;\">\n",
       "      <th></th>\n",
       "      <th>Mouse ID</th>\n",
       "      <th>Drug Regimen</th>\n",
       "      <th>Sex</th>\n",
       "      <th>Age_months</th>\n",
       "      <th>Weight (g)</th>\n",
       "      <th>Timepoint</th>\n",
       "      <th>Tumor Volume (mm3)</th>\n",
       "      <th>Metastatic Sites</th>\n",
       "    </tr>\n",
       "  </thead>\n",
       "  <tbody>\n",
       "    <tr>\n",
       "      <th>0</th>\n",
       "      <td>k403</td>\n",
       "      <td>Ramicane</td>\n",
       "      <td>Male</td>\n",
       "      <td>21</td>\n",
       "      <td>16</td>\n",
       "      <td>0</td>\n",
       "      <td>45.000000</td>\n",
       "      <td>0</td>\n",
       "    </tr>\n",
       "    <tr>\n",
       "      <th>1</th>\n",
       "      <td>k403</td>\n",
       "      <td>Ramicane</td>\n",
       "      <td>Male</td>\n",
       "      <td>21</td>\n",
       "      <td>16</td>\n",
       "      <td>5</td>\n",
       "      <td>38.825898</td>\n",
       "      <td>0</td>\n",
       "    </tr>\n",
       "    <tr>\n",
       "      <th>2</th>\n",
       "      <td>k403</td>\n",
       "      <td>Ramicane</td>\n",
       "      <td>Male</td>\n",
       "      <td>21</td>\n",
       "      <td>16</td>\n",
       "      <td>10</td>\n",
       "      <td>35.014271</td>\n",
       "      <td>1</td>\n",
       "    </tr>\n",
       "    <tr>\n",
       "      <th>3</th>\n",
       "      <td>k403</td>\n",
       "      <td>Ramicane</td>\n",
       "      <td>Male</td>\n",
       "      <td>21</td>\n",
       "      <td>16</td>\n",
       "      <td>15</td>\n",
       "      <td>34.223992</td>\n",
       "      <td>1</td>\n",
       "    </tr>\n",
       "    <tr>\n",
       "      <th>4</th>\n",
       "      <td>k403</td>\n",
       "      <td>Ramicane</td>\n",
       "      <td>Male</td>\n",
       "      <td>21</td>\n",
       "      <td>16</td>\n",
       "      <td>20</td>\n",
       "      <td>32.997729</td>\n",
       "      <td>1</td>\n",
       "    </tr>\n",
       "  </tbody>\n",
       "</table>\n",
       "</div>"
      ],
      "text/plain": [
       "  Mouse ID Drug Regimen   Sex  Age_months  Weight (g)  Timepoint  \\\n",
       "0     k403     Ramicane  Male          21          16          0   \n",
       "1     k403     Ramicane  Male          21          16          5   \n",
       "2     k403     Ramicane  Male          21          16         10   \n",
       "3     k403     Ramicane  Male          21          16         15   \n",
       "4     k403     Ramicane  Male          21          16         20   \n",
       "\n",
       "   Tumor Volume (mm3)  Metastatic Sites  \n",
       "0           45.000000                 0  \n",
       "1           38.825898                 0  \n",
       "2           35.014271                 1  \n",
       "3           34.223992                 1  \n",
       "4           32.997729                 1  "
      ]
     },
     "execution_count": 1,
     "metadata": {},
     "output_type": "execute_result"
    }
   ],
   "source": [
    "# Dependencies and Setup\n",
    "import matplotlib.pyplot as plt\n",
    "import pandas as pd\n",
    "import numpy as np\n",
    "import scipy.stats as st\n",
    "from scipy.stats import linregress\n",
    "\n",
    "# Study data files\n",
    "mouse_metadata = \"data/Mouse_metadata.csv\"\n",
    "study_results = \"data/Study_results.csv\"\n",
    "\n",
    "# Read the mouse data and the study results\n",
    "mouse_metadata = pd.read_csv(mouse_metadata)\n",
    "study_results = pd.read_csv(study_results)\n",
    "\n",
    "# Combine the data into a single dataset\n",
    "merged_data = pd.merge(mouse_metadata, study_results, on=('Mouse ID'))\n",
    "merged_data.head()"
   ]
  },
  {
   "cell_type": "markdown",
   "metadata": {},
   "source": [
    "## Summary statistics"
   ]
  },
  {
   "cell_type": "code",
   "execution_count": 2,
   "metadata": {},
   "outputs": [
    {
     "data": {
      "text/html": [
       "<div>\n",
       "<style scoped>\n",
       "    .dataframe tbody tr th:only-of-type {\n",
       "        vertical-align: middle;\n",
       "    }\n",
       "\n",
       "    .dataframe tbody tr th {\n",
       "        vertical-align: top;\n",
       "    }\n",
       "\n",
       "    .dataframe thead th {\n",
       "        text-align: right;\n",
       "    }\n",
       "</style>\n",
       "<table border=\"1\" class=\"dataframe\">\n",
       "  <thead>\n",
       "    <tr style=\"text-align: right;\">\n",
       "      <th></th>\n",
       "      <th>Mean</th>\n",
       "      <th>Median</th>\n",
       "      <th>Variance</th>\n",
       "      <th>StDev</th>\n",
       "      <th>SEM</th>\n",
       "    </tr>\n",
       "    <tr>\n",
       "      <th>Drug Regimen</th>\n",
       "      <th></th>\n",
       "      <th></th>\n",
       "      <th></th>\n",
       "      <th></th>\n",
       "      <th></th>\n",
       "    </tr>\n",
       "  </thead>\n",
       "  <tbody>\n",
       "    <tr>\n",
       "      <th>Capomulin</th>\n",
       "      <td>40.68</td>\n",
       "      <td>41.56</td>\n",
       "      <td>24.95</td>\n",
       "      <td>4.99</td>\n",
       "      <td>0.33</td>\n",
       "    </tr>\n",
       "    <tr>\n",
       "      <th>Ceftamin</th>\n",
       "      <td>52.59</td>\n",
       "      <td>51.78</td>\n",
       "      <td>39.29</td>\n",
       "      <td>6.27</td>\n",
       "      <td>0.47</td>\n",
       "    </tr>\n",
       "    <tr>\n",
       "      <th>Infubinol</th>\n",
       "      <td>52.88</td>\n",
       "      <td>51.82</td>\n",
       "      <td>43.13</td>\n",
       "      <td>6.57</td>\n",
       "      <td>0.49</td>\n",
       "    </tr>\n",
       "    <tr>\n",
       "      <th>Ketapril</th>\n",
       "      <td>55.24</td>\n",
       "      <td>53.70</td>\n",
       "      <td>68.55</td>\n",
       "      <td>8.28</td>\n",
       "      <td>0.60</td>\n",
       "    </tr>\n",
       "    <tr>\n",
       "      <th>Naftisol</th>\n",
       "      <td>54.33</td>\n",
       "      <td>52.51</td>\n",
       "      <td>66.17</td>\n",
       "      <td>8.13</td>\n",
       "      <td>0.60</td>\n",
       "    </tr>\n",
       "    <tr>\n",
       "      <th>Placebo</th>\n",
       "      <td>54.03</td>\n",
       "      <td>52.29</td>\n",
       "      <td>61.17</td>\n",
       "      <td>7.82</td>\n",
       "      <td>0.58</td>\n",
       "    </tr>\n",
       "    <tr>\n",
       "      <th>Propriva</th>\n",
       "      <td>52.32</td>\n",
       "      <td>50.85</td>\n",
       "      <td>42.35</td>\n",
       "      <td>6.51</td>\n",
       "      <td>0.51</td>\n",
       "    </tr>\n",
       "    <tr>\n",
       "      <th>Ramicane</th>\n",
       "      <td>40.22</td>\n",
       "      <td>40.67</td>\n",
       "      <td>23.49</td>\n",
       "      <td>4.85</td>\n",
       "      <td>0.32</td>\n",
       "    </tr>\n",
       "    <tr>\n",
       "      <th>Stelasyn</th>\n",
       "      <td>54.23</td>\n",
       "      <td>52.43</td>\n",
       "      <td>59.45</td>\n",
       "      <td>7.71</td>\n",
       "      <td>0.57</td>\n",
       "    </tr>\n",
       "    <tr>\n",
       "      <th>Zoniferol</th>\n",
       "      <td>53.24</td>\n",
       "      <td>51.82</td>\n",
       "      <td>48.53</td>\n",
       "      <td>6.97</td>\n",
       "      <td>0.52</td>\n",
       "    </tr>\n",
       "  </tbody>\n",
       "</table>\n",
       "</div>"
      ],
      "text/plain": [
       "               Mean  Median  Variance  StDev   SEM\n",
       "Drug Regimen                                      \n",
       "Capomulin     40.68   41.56     24.95   4.99  0.33\n",
       "Ceftamin      52.59   51.78     39.29   6.27  0.47\n",
       "Infubinol     52.88   51.82     43.13   6.57  0.49\n",
       "Ketapril      55.24   53.70     68.55   8.28  0.60\n",
       "Naftisol      54.33   52.51     66.17   8.13  0.60\n",
       "Placebo       54.03   52.29     61.17   7.82  0.58\n",
       "Propriva      52.32   50.85     42.35   6.51  0.51\n",
       "Ramicane      40.22   40.67     23.49   4.85  0.32\n",
       "Stelasyn      54.23   52.43     59.45   7.71  0.57\n",
       "Zoniferol     53.24   51.82     48.53   6.97  0.52"
      ]
     },
     "execution_count": 2,
     "metadata": {},
     "output_type": "execute_result"
    }
   ],
   "source": [
    "# Generate a summary statistics table of mean, median, variance, standard deviation, and SEM of the tumor volume for each regimen\n",
    "mice = merged_data[\"Mouse ID\"].unique()\n",
    "drugs = merged_data[\"Drug Regimen\"].unique()\n",
    "time = merged_data[\"Timepoint\"].unique()\n",
    "\n",
    "number_mouse = len(mice)\n",
    "number_drugs = len(drugs)\n",
    "number_measurements = len(time)\n",
    "number_samples = (number_drugs * number_measurements)\n",
    "\n",
    "data_summary = pd.DataFrame({\"Number of Mice\": [number_mouse],\n",
    "                         \"Number of Drug Regimen Treatments\": [number_drugs],\n",
    "                         \"Number of Time Measurements\": [number_measurements],\n",
    "                         \"Number of Samples\": [number_samples]})\n",
    "\n",
    "mean_volume = pd.DataFrame(round(merged_data.groupby(['Drug Regimen']).mean()['Tumor Volume (mm3)'],2))\n",
    "median_volume = pd.DataFrame(round(merged_data.groupby(['Drug Regimen']).median()['Tumor Volume (mm3)'],2))\n",
    "variance = pd.DataFrame(round(merged_data.groupby(['Drug Regimen']).var()['Tumor Volume (mm3)'],2))\n",
    "stdev = pd.DataFrame(round(merged_data.groupby(['Drug Regimen']).std()['Tumor Volume (mm3)'],2))\n",
    "SEM = pd.DataFrame(round(merged_data.groupby(['Drug Regimen']).sem()['Tumor Volume (mm3)'],2))\n",
    "\n",
    "\n",
    "mean_volume = mean_volume.rename(columns={\"Tumor Volume (mm3)\":\"Mean\"})\n",
    "median_volume = median_volume.rename(columns={\"Tumor Volume (mm3)\":\"Median\"})\n",
    "variance = variance.rename(columns={\"Tumor Volume (mm3)\":\"Variance\"})\n",
    "stdev = stdev.rename(columns={\"Tumor Volume (mm3)\":\"StDev\"})\n",
    "SEM = SEM.rename(columns={\"Tumor Volume (mm3)\":\"SEM\"})\n",
    "\n",
    "summary_stat = [mean_volume, median_volume, variance, stdev, SEM]\n",
    "summary_stat = pd.concat(summary_stat,axis=1,join='inner')\n",
    "summary_stat"
   ]
  },
  {
   "cell_type": "markdown",
   "metadata": {},
   "source": [
    "## Bar plots"
   ]
  },
  {
   "cell_type": "code",
   "execution_count": 3,
   "metadata": {},
   "outputs": [
    {
     "data": {
      "text/plain": [
       "Text(0, 0.5, 'Number of Data Points')"
      ]
     },
     "execution_count": 3,
     "metadata": {},
     "output_type": "execute_result"
    },
    {
     "data": {
      "image/png": "[encoded data removed]",
      "text/plain": [
       "<Figure size 432x288 with 1 Axes>"
      ]
     },
     "metadata": {
      "needs_background": "light"
     },
     "output_type": "display_data"
    }
   ],
   "source": [
    "# Generate a bar plot showing number of data points for each treatment regimen using pandas\n",
    "treatment_reg = merged_data.groupby([\"Drug Regimen\"])\n",
    "data_points = treatment_reg[\"Drug Regimen\"].count()\n",
    "data_points.plot(kind=\"bar\", color='red', y=data_points)\n",
    "plt.title(\"Number of Data Points per Drug Regimen\")\n",
    "plt.ylabel(\"Number of Data Points\")"
   ]
  },
  {
   "cell_type": "code",
   "execution_count": 4,
   "metadata": {},
   "outputs": [
    {
     "data": {
      "text/plain": [
       "Text(0, 0.5, 'Number of Data Points')"
      ]
     },
     "execution_count": 4,
     "metadata": {},
     "output_type": "execute_result"
    },
    {
     "data": {
      "image/png": "[encoded data removed]",
      "text/plain": [
       "<Figure size 432x288 with 1 Axes>"
      ]
     },
     "metadata": {
      "needs_background": "light"
     },
     "output_type": "display_data"
    }
   ],
   "source": [
    "# Generate a bar plot showing number of data points for each treatment regimen using pyplot\n",
    "x_axis = np.arange(len(data_points))\n",
    "plt.bar(x_axis, data_points, alpha=1, color='red', width=0.5, align='center')\n",
    "\n",
    "tick_locations = [value for value in x_axis]\n",
    "plt.xticks(tick_locations, data_points.index, rotation='vertical')\n",
    "plt.title(\"Number of Data Points per Drug Regimen\")\n",
    "plt.xlabel(\"Drug Regimen\")\n",
    "plt.ylabel(\"Number of Data Points\")"
   ]
  },
  {
   "cell_type": "markdown",
   "metadata": {},
   "source": [
    "## Pie plots"
   ]
  },
  {
   "cell_type": "code",
   "execution_count": 5,
   "metadata": {},
   "outputs": [
    {
     "data": {
      "text/plain": [
       "Text(0.5, 1.0, 'Male vs. Female Mice')"
      ]
     },
     "execution_count": 5,
     "metadata": {},
     "output_type": "execute_result"
    },
    {
     "data": {
      "image/png": "[encoded data removed]",
      "text/plain": [
       "<Figure size 432x288 with 1 Axes>"
      ]
     },
     "metadata": {},
     "output_type": "display_data"
    }
   ],
   "source": [
    "# Generate a pie plot showing the distribution of female versus male mice using pandas\n",
    "#generate \n",
    "gender_count = pd.DataFrame(merged_data[\"Sex\"].value_counts())\n",
    "#gender_count - used this to generate the number of male and female mice\n",
    "\n",
    "gender_df = pd.DataFrame({'count':[958, 935]},\n",
    "                   index = ['Male', 'Female'])\n",
    "gender_pie = gender_df.plot.pie(y='count',autopct=\"%1.1f%%\", startangle=90)\n",
    "plt.title('Male vs. Female Mice')"
   ]
  },
  {
   "cell_type": "code",
   "execution_count": 6,
   "metadata": {},
   "outputs": [
    {
     "name": "stderr",
     "output_type": "stream",
     "text": [
      "/opt/anaconda3/envs/PythonData/lib/python3.6/site-packages/ipykernel_launcher.py:3: MatplotlibDeprecationWarning: Non-1D inputs to pie() are currently squeeze()d, but this behavior is deprecated since 3.1 and will be removed in 3.3; pass a 1D array instead.\n",
      "  This is separate from the ipykernel package so we can avoid doing imports until\n"
     ]
    },
    {
     "data": {
      "image/png": "[encoded data removed]",
      "text/plain": [
       "<Figure size 432x288 with 1 Axes>"
      ]
     },
     "metadata": {},
     "output_type": "display_data"
    }
   ],
   "source": [
    "# Generate a pie plot showing the distribution of female versus male mice using pyplot\n",
    "labels = [\"Male\", \"Female\"]\n",
    "plt.pie(gender_count, labels=labels,shadow=True, autopct=\"%1.1f%%\",startangle=90)\n",
    "#plt.xticks(x_axis,Drug_Regimen,rotation='vertical')\n",
    "plt.legend(loc='upper left', bbox_to_anchor=(1.0, 0.5),fontsize = 10)\n",
    "plt.title(\"Male vs. Female Mice\")\n",
    "plt.show()"
   ]
  },
  {
   "cell_type": "markdown",
   "metadata": {},
   "source": [
    "## Quartiles, outliers and boxplots"
   ]
  },
  {
   "cell_type": "code",
   "execution_count": 7,
   "metadata": {},
   "outputs": [
    {
     "data": {
      "text/html": [
       "<div>\n",
       "<style scoped>\n",
       "    .dataframe tbody tr th:only-of-type {\n",
       "        vertical-align: middle;\n",
       "    }\n",
       "\n",
       "    .dataframe tbody tr th {\n",
       "        vertical-align: top;\n",
       "    }\n",
       "\n",
       "    .dataframe thead th {\n",
       "        text-align: right;\n",
       "    }\n",
       "</style>\n",
       "<table border=\"1\" class=\"dataframe\">\n",
       "  <thead>\n",
       "    <tr style=\"text-align: right;\">\n",
       "      <th></th>\n",
       "      <th>Mouse ID</th>\n",
       "      <th>Timepoint</th>\n",
       "      <th>Tumor Volume (mm3)</th>\n",
       "    </tr>\n",
       "    <tr>\n",
       "      <th>Drug Regimen</th>\n",
       "      <th></th>\n",
       "      <th></th>\n",
       "      <th></th>\n",
       "    </tr>\n",
       "  </thead>\n",
       "  <tbody>\n",
       "    <tr>\n",
       "      <th>Capomulin</th>\n",
       "      <td>b128</td>\n",
       "      <td>45</td>\n",
       "      <td>38.982878</td>\n",
       "    </tr>\n",
       "    <tr>\n",
       "      <th>Capomulin</th>\n",
       "      <td>j246</td>\n",
       "      <td>35</td>\n",
       "      <td>38.753265</td>\n",
       "    </tr>\n",
       "    <tr>\n",
       "      <th>Capomulin</th>\n",
       "      <td>r554</td>\n",
       "      <td>45</td>\n",
       "      <td>32.377357</td>\n",
       "    </tr>\n",
       "    <tr>\n",
       "      <th>Capomulin</th>\n",
       "      <td>s185</td>\n",
       "      <td>45</td>\n",
       "      <td>23.343598</td>\n",
       "    </tr>\n",
       "    <tr>\n",
       "      <th>Capomulin</th>\n",
       "      <td>b742</td>\n",
       "      <td>45</td>\n",
       "      <td>38.939633</td>\n",
       "    </tr>\n",
       "  </tbody>\n",
       "</table>\n",
       "</div>"
      ],
      "text/plain": [
       "             Mouse ID  Timepoint  Tumor Volume (mm3)\n",
       "Drug Regimen                                        \n",
       "Capomulin        b128         45           38.982878\n",
       "Capomulin        j246         35           38.753265\n",
       "Capomulin        r554         45           32.377357\n",
       "Capomulin        s185         45           23.343598\n",
       "Capomulin        b742         45           38.939633"
      ]
     },
     "execution_count": 7,
     "metadata": {},
     "output_type": "execute_result"
    }
   ],
   "source": [
    "# Calculate the final tumor volume of each mouse across four of the most promising treatment regimens. \n",
    "#Capomulin, Ramicane, Infubinol, and Ceftamin\n",
    "\n",
    "final_vol_data=pd.merge(study_results,mouse_metadata, on=\"Mouse ID\", how=\"inner\")\n",
    "final_vol_table=final_vol_data[[\"Mouse ID\",\"Timepoint\",\"Tumor Volume (mm3)\",\"Drug Regimen\"]]\n",
    "\n",
    "final_vol_df=final_vol_table.groupby(\"Mouse ID\").tail(1)\n",
    "final_vol_df=final_vol_df.set_index([\"Drug Regimen\"], inplace=False)\n",
    "\n",
    "final_vol_drug=final_vol_df.loc[[\"Capomulin\", \"Ramicane\", \"Infubinol\", \"Ceftamin\"]]\n",
    "final_vol_drug.head()\n"
   ]
  },
  {
   "cell_type": "code",
   "execution_count": 8,
   "metadata": {},
   "outputs": [
    {
     "name": "stdout",
     "output_type": "stream",
     "text": [
      "Capomulin:\n",
      "The lower quartile of Tumor Volume is: 32.38\n",
      "The upper quartile of Tumor Volume is: 40.16\n",
      "The interquartile range of Tumor Volume is: 7.78\n",
      "The the median of Tumor Volume is: 38.13 \n",
      "Values below 20.7 could be outliers.\n",
      "Values above 51.83 could be outliers.\n"
     ]
    }
   ],
   "source": [
    "#Calculate the IQR and quantitatively determine if there are any potential outliers.\n",
    "#Capomulin IQR\n",
    "quartiles_capomulin=final_vol_drug.loc[\"Capomulin\",\"Tumor Volume (mm3)\"].quantile([.25,.5,.75])\n",
    "\n",
    "lowerq = quartiles_capomulin[0.25]\n",
    "upperq = quartiles_capomulin[0.75]\n",
    "iqr = upperq - lowerq\n",
    "\n",
    "print(\"Capomulin:\")\n",
    "print(f\"The lower quartile of Tumor Volume is: {round(lowerq,2)}\")\n",
    "print(f\"The upper quartile of Tumor Volume is: {round(upperq,2)}\")\n",
    "print(f\"The interquartile range of Tumor Volume is: {round(iqr,2)}\")\n",
    "print(f\"The the median of Tumor Volume is: {round(quartiles_capomulin[0.5],2)} \")\n",
    "\n",
    "#calculate outliers\n",
    "lower_bound = lowerq - (1.5*iqr)\n",
    "upper_bound = upperq + (1.5*iqr)\n",
    "print(f\"Values below {round(lower_bound,2)} could be outliers.\")\n",
    "print(f\"Values above {round(upper_bound,2)} could be outliers.\")\n"
   ]
  },
  {
   "cell_type": "code",
   "execution_count": 9,
   "metadata": {},
   "outputs": [
    {
     "name": "stdout",
     "output_type": "stream",
     "text": [
      "Ramicane:\n",
      "The lower quartile of Tumor Volume is: 31.56\n",
      "The upper quartile of Tumor Volume is: 40.66\n",
      "The interquartile range of Tumor Volume is: 9.1\n",
      "The the median of Tumor Volume is: 36.56 \n",
      "Values below 17.91 could be outliers.\n",
      "Values above 54.31 could be outliers.\n"
     ]
    }
   ],
   "source": [
    "#Ramicane IQR\n",
    "quartiles_Ramicane=final_vol_drug.loc[\"Ramicane\",\"Tumor Volume (mm3)\"].quantile([.25,.5,.75])\n",
    "\n",
    "lowerq = quartiles_Ramicane[0.25]\n",
    "upperq = quartiles_Ramicane[0.75]\n",
    "iqr = upperq - lowerq\n",
    "\n",
    "print(\"Ramicane:\")\n",
    "print(f\"The lower quartile of Tumor Volume is: {round(lowerq,2)}\")\n",
    "print(f\"The upper quartile of Tumor Volume is: {round(upperq,2)}\")\n",
    "print(f\"The interquartile range of Tumor Volume is: {round(iqr,2)}\")\n",
    "print(f\"The the median of Tumor Volume is: {round(quartiles_Ramicane[0.5],2)} \")\n",
    "\n",
    "#calculate outliers\n",
    "lower_bound = lowerq - (1.5*iqr)\n",
    "upper_bound = upperq + (1.5*iqr)\n",
    "print(f\"Values below {round(lower_bound,2)} could be outliers.\")\n",
    "print(f\"Values above {round(upper_bound,2)} could be outliers.\")"
   ]
  },
  {
   "cell_type": "code",
   "execution_count": 10,
   "metadata": {},
   "outputs": [
    {
     "name": "stdout",
     "output_type": "stream",
     "text": [
      "Infubinol:\n",
      "The lower quartile of Tumor Volume is: 54.05\n",
      "The upper quartile of Tumor Volume is: 65.53\n",
      "The interquartile range of Tumor Volume is: 11.48\n",
      "The the median of Tumor Volume is: 60.17 \n",
      "Values below 36.83 could be outliers.\n",
      "Values above 82.74 could be outliers.\n"
     ]
    }
   ],
   "source": [
    "#Infubinol IQR\n",
    "quartiles_Infubinol=final_vol_drug.loc[\"Infubinol\",\"Tumor Volume (mm3)\"].quantile([.25,.5,.75])\n",
    "\n",
    "lowerq = quartiles_Infubinol[0.25]\n",
    "upperq = quartiles_Infubinol[0.75]\n",
    "iqr = upperq - lowerq\n",
    "\n",
    "print(\"Infubinol:\")\n",
    "print(f\"The lower quartile of Tumor Volume is: {round(lowerq,2)}\")\n",
    "print(f\"The upper quartile of Tumor Volume is: {round(upperq,2)}\")\n",
    "print(f\"The interquartile range of Tumor Volume is: {round(iqr,2)}\")\n",
    "print(f\"The the median of Tumor Volume is: {round(quartiles_Infubinol[0.5],2)} \")\n",
    "\n",
    "#calculate outliers\n",
    "lower_bound = lowerq - (1.5*iqr)\n",
    "upper_bound = upperq + (1.5*iqr)\n",
    "print(f\"Values below {round(lower_bound,2)} could be outliers.\")\n",
    "print(f\"Values above {round(upper_bound,2)} could be outliers.\")"
   ]
  },
  {
   "cell_type": "code",
   "execution_count": 11,
   "metadata": {},
   "outputs": [
    {
     "name": "stdout",
     "output_type": "stream",
     "text": [
      "Ceftamin:\n",
      "The lower quartile of Tumor Volume is: 48.72\n",
      "The upper quartile of Tumor Volume is: 64.3\n",
      "The interquartile range of Tumor Volume is: 15.58\n",
      "The the median of Tumor Volume is: 59.85 \n",
      "Values below 25.36 could be outliers.\n",
      "Values above 87.67 could be outliers.\n"
     ]
    }
   ],
   "source": [
    "#Ceftamin IQR\n",
    "quartiles_Ceftamin=final_vol_drug.loc[\"Ceftamin\",\"Tumor Volume (mm3)\"].quantile([.25,.5,.75])\n",
    "\n",
    "lowerq = quartiles_Ceftamin[0.25]\n",
    "upperq = quartiles_Ceftamin[0.75]\n",
    "iqr = upperq - lowerq\n",
    "\n",
    "print(\"Ceftamin:\")\n",
    "print(f\"The lower quartile of Tumor Volume is: {round(lowerq,2)}\")\n",
    "print(f\"The upper quartile of Tumor Volume is: {round(upperq,2)}\")\n",
    "print(f\"The interquartile range of Tumor Volume is: {round(iqr,2)}\")\n",
    "print(f\"The the median of Tumor Volume is: {round(quartiles_Ceftamin[0.5],2)} \")\n",
    "\n",
    "#calculate outliers\n",
    "lower_bound = lowerq - (1.5*iqr)\n",
    "upper_bound = upperq + (1.5*iqr)\n",
    "print(f\"Values below {round(lower_bound,2)} could be outliers.\")\n",
    "print(f\"Values above {round(upper_bound,2)} could be outliers.\")"
   ]
  },
  {
   "cell_type": "code",
   "execution_count": 12,
   "metadata": {},
   "outputs": [
    {
     "data": {
      "image/png": "[encoded data removed]",
      "text/plain": [
       "<Figure size 432x288 with 1 Axes>"
      ]
     },
     "metadata": {
      "needs_background": "light"
     },
     "output_type": "display_data"
    }
   ],
   "source": [
    "# Generate a box plot of the final tumor volume of each mouse across four regimens of interest\n",
    "\n",
    "box_capomulin = final_vol_drug.loc[\"Capomulin\",\"Tumor Volume (mm3)\"]\n",
    "box_Ramicane = final_vol_drug.loc[\"Ramicane\",\"Tumor Volume (mm3)\"]\n",
    "box_Infubinol = final_vol_drug.loc[\"Infubinol\",\"Tumor Volume (mm3)\"]\n",
    "box_Ceftamin = final_vol_drug.loc[\"Ceftamin\",\"Tumor Volume (mm3)\"]\n",
    "\n",
    "box1 = box_capomulin, box_Ramicane, box_Infubinol, box_Ceftamin\n",
    "fig1, ax1 = plt.subplots()\n",
    "ax1.set_title('Range of Tumor Volume Across Four Treatments')\n",
    "ax1.set_ylabel('Tumor Volume (mm3)')\n",
    "ax1.set_xlabel('Drug Regimen')\n",
    "red_outliers = dict(markerfacecolor='r')\n",
    "plt.xticks([], ['Capomulin', 'Ramicane', 'Infubinol', 'Ceftamin'])\n",
    "ax1.boxplot(box1, flierprops=red_outliers)\n",
    "plt.show()"
   ]
  },
  {
   "cell_type": "markdown",
   "metadata": {},
   "source": [
    "## Line and scatter plots"
   ]
  },
  {
   "cell_type": "code",
   "execution_count": 13,
   "metadata": {},
   "outputs": [
    {
     "data": {
      "text/plain": [
       "(0, 45)"
      ]
     },
     "execution_count": 13,
     "metadata": {},
     "output_type": "execute_result"
    },
    {
     "data": {
      "image/png": "[encoded data removed]",
      "text/plain": [
       "<Figure size 432x288 with 1 Axes>"
      ]
     },
     "metadata": {
      "needs_background": "light"
     },
     "output_type": "display_data"
    }
   ],
   "source": [
    "# Generate a line plot of time point versus tumor volume for a mouse treated with Capomulin\n",
    "\n",
    "line_data = merged_data.set_index([\"Mouse ID\"], inplace=False)\n",
    "s185_data = line_data.loc[\"s185\"]\n",
    "#s185_data- used to obtain mouse ID\n",
    "\n",
    "x_s185_data = s185_data[\"Timepoint\"]\n",
    "y_s185_data = s185_data[\"Tumor Volume (mm3)\"]\n",
    "plt.plot(x_s185_data, y_s185_data, 'o-')\n",
    "plt.title(\"Tumor Volume of Mice s185 Treated with Capomulin for 45 Days\")\n",
    "plt.xlabel(\"Days\")\n",
    "plt.ylabel(\"Tumor Volume (mm3)\")\n",
    "plt.grid(True)\n",
    "plt.xlim(0, 45)"
   ]
  },
  {
   "cell_type": "code",
   "execution_count": 14,
   "metadata": {},
   "outputs": [
    {
     "data": {
      "text/plain": [
       "Text(0, 0.5, 'Average Tumor Volume (mm3)')"
      ]
     },
     "execution_count": 14,
     "metadata": {},
     "output_type": "execute_result"
    },
    {
     "data": {
      "image/png": "[encoded data removed]",
      "text/plain": [
       "<Figure size 432x288 with 1 Axes>"
      ]
     },
     "metadata": {
      "needs_background": "light"
     },
     "output_type": "display_data"
    }
   ],
   "source": [
    "# Generate a scatter plot of mouse weight versus average tumor volume for the Capomulin regimen\n",
    "\n",
    "weight_vol_data = merged_data.set_index([\"Drug Regimen\"], inplace=False)\n",
    "weight_vol_table = weight_vol_data.loc[\"Capomulin\"]\n",
    "#weight_vol_table.head()- used to obtain weights\n",
    "\n",
    "x_weight_vol = weight_vol_table.groupby([\"Mouse ID\"])[\"Weight (g)\"].mean()\n",
    "y_weight_vol = weight_vol_table.groupby([\"Mouse ID\"])[\"Tumor Volume (mm3)\"].mean()\n",
    "plt.scatter(x_weight_vol, y_weight_vol, marker=\"o\", color=\"r\")\n",
    "plt.title(\"Mouse Weight versus Average Tumor Volume in the Capomulin Regimen\")\n",
    "plt.xlabel(\"Mouse Weight\")\n",
    "plt.ylabel(\"Average Tumor Volume (mm3)\")"
   ]
  },
  {
   "cell_type": "code",
   "execution_count": 15,
   "metadata": {},
   "outputs": [
    {
     "name": "stdout",
     "output_type": "stream",
     "text": [
      "The correlation between Mouse Weight and Average Tumor Volume is 0.84\n"
     ]
    },
    {
     "data": {
      "text/plain": [
       "Text(0, 0.5, 'Average Tumor Volume (mm3)')"
      ]
     },
     "execution_count": 15,
     "metadata": {},
     "output_type": "execute_result"
    },
    {
     "data": {
      "image/png": "[encoded data removed]",
      "text/plain": [
       "<Figure size 432x288 with 1 Axes>"
      ]
     },
     "metadata": {
      "needs_background": "light"
     },
     "output_type": "display_data"
    }
   ],
   "source": [
    "# Calculate the correlation coefficient and linear regression model for mouse weight and average tumor volume for the Capomulin regimen\n",
    "correlation = st.pearsonr(x_weight_vol,y_weight_vol)\n",
    "print(f\"The correlation between Mouse Weight and Average Tumor Volume is {round(correlation[0],2)}\")\n",
    "\n",
    "(slope, intercept, rvalue, pvalue, stderr) = linregress(x_weight_vol, y_weight_vol)\n",
    "regress_values = x_weight_vol * slope + intercept\n",
    "line_eq = \"y = \" + str(round(slope,2)) + \"x + \" + str(round(intercept,2))\n",
    "\n",
    "plt.scatter(x_weight_vol, y_weight_vol, marker=\"o\", color=\"black\")\n",
    "plt.plot(x_weight_vol,regress_values,\"r-\")\n",
    "plt.annotate(line_eq,(20,36),fontsize=15,color=\"red\")\n",
    "plt.title(\"Mouse Weight versus Average Tumor Volume (Capomulin Regimen)\")\n",
    "plt.xlabel(\"Mouse Weight\")\n",
    "plt.ylabel(\"Average Tumor Volume (mm3)\")"
   ]
  },
  {
   "cell_type": "code",
   "execution_count": null,
   "metadata": {},
   "outputs": [],
   "source": []
  }
 ],
 "metadata": {
  "anaconda-cloud": {},
  "kernelspec": {
   "display_name": "Python 3",
   "language": "python",
   "name": "python3"
  },
  "language_info": {
   "codemirror_mode": {
    "name": "ipython",
    "version": 3
   },
   "file_extension": ".py",
   "mimetype": "text/x-python",
   "name": "python",
   "nbconvert_exporter": "python",
   "pygments_lexer": "ipython3",
   "version": "3.6.9"
  }
 },
 "nbformat": 4,
 "nbformat_minor": 4
}
